{
 "cells": [
  {
   "cell_type": "markdown",
   "metadata": {},
   "source": [
    "# telporting with variables"
   ]
  },
  {
   "cell_type": "markdown",
   "metadata": {},
   "source": [
    "were are going to telerport the character on minecraft with variables"
   ]
  },
  {
   "cell_type": "code",
   "execution_count": 3,
   "metadata": {},
   "outputs": [],
   "source": [
    "pickaxes = 12\n",
    "bread = 145\n",
    "cats=56\n",
    "swords=3"
   ]
  },
  {
   "cell_type": "markdown",
   "metadata": {},
   "source": [
    "python doesnt work if the line format wrong e.g. see below"
   ]
  },
  {
   "cell_type": "code",
   "execution_count": 4,
   "metadata": {},
   "outputs": [],
   "source": [
    "    iron=30"
   ]
  },
  {
   "cell_type": "code",
   "execution_count": null,
   "metadata": {},
   "outputs": [],
   "source": []
  },
  {
   "cell_type": "markdown",
   "metadata": {},
   "source": [
    "i am changing gamerule showcoordinates to true so i can check that im being telerported to the right place. From the minecraft server command window\n",
    "\n",
    "this is the command\n",
    "\n",
    "\n",
    "gamerule showcoordinates true\n"
   ]
  },
  {
   "cell_type": "markdown",
   "metadata": {},
   "source": [
    "these 3 sells telerport the player you have to run all of the"
   ]
  },
  {
   "cell_type": "code",
   "execution_count": 5,
   "metadata": {},
   "outputs": [],
   "source": [
    "from mcpi.minecraft import Minecraft\n",
    "mc = Minecraft.create()\n",
    "y = 10.5\n",
    "z = 110.0\n",
    "x = 12.5  \n",
    "mc.player.setTilePos(x, y, z)                \n",
    "\n",
    "\n",
    "\n"
   ]
  },
  {
   "cell_type": "code",
   "execution_count": 6,
   "metadata": {},
   "outputs": [],
   "source": [
    "import time\n",
    "time.sleep(5)"
   ]
  },
  {
   "cell_type": "code",
   "execution_count": 7,
   "metadata": {},
   "outputs": [],
   "source": [
    "from mcpi.minecraft import Minecraft\n",
    "#mc = Minecraft.create()\n",
    "import time\n",
    "\n",
    "x =50\n",
    "y =200\n",
    "z =60\n",
    "\n",
    "mc.player.setTilePos(x, y, z)  \n",
    "\n",
    "time.sleep(5)\n",
    "\n",
    "x = 125.65\n",
    "y = 240.95\n",
    "z = 58.25\n",
    "\n",
    "mc.player.setTilePos(x, y, z)  "
   ]
  },
  {
   "cell_type": "markdown",
   "metadata": {},
   "source": [
    "## Using a Command block to teleport in minecraft\n",
    "you can do this teleport with some command blocks - here is what you do\n",
    "\n",
    "to do this with minecraft\n",
    "press the forward slash /\n",
    "from the prompt which follows\n",
    "give @p minecraft:command_block\n",
    "\n",
    "this will place the command block in your hotbar\n",
    "\n",
    "\n",
    "this gives the command block to the closest player\n",
    "next you have to get a lever and redstone repeaters from your creative inventory\n",
    "\n",
    "press e to acces inventory\n",
    "\n",
    "gotot a flat area  first se;ect a lever\n",
    "then place infront of this a redstone repeater\n",
    "\n",
    "then place a command block infront of the redstone repeater\n",
    "\n",
    "it is really important that the redstone repeater is facing the of the command block \n",
    "\n",
    "if command blocks are enabled on the server \n",
    "\n",
    "right click on the command block and from the prompt which appears\n",
    "type\n",
    "tp 50  200 60\n",
    "\n",
    "\n",
    "Basically it's much easier to run this cool python script!"
   ]
  },
  {
   "cell_type": "markdown",
   "metadata": {},
   "source": [
    "# Some debugging"
   ]
  },
  {
   "cell_type": "code",
   "execution_count": 13,
   "metadata": {},
   "outputs": [],
   "source": [
    "#there is an error below, but none is reported\n",
    "y = 300\n",
    "z = 110\n",
    "x = 110 \n",
    "mc.player.setPos(x, y, z) #it looks like its the same thing as setTilePos"
   ]
  }
 ],
 "metadata": {
  "kernelspec": {
   "display_name": "Python 3",
   "language": "python",
   "name": "python3"
  },
  "language_info": {
   "codemirror_mode": {
    "name": "ipython",
    "version": 3
   },
   "file_extension": ".py",
   "mimetype": "text/x-python",
   "name": "python",
   "nbconvert_exporter": "python",
   "pygments_lexer": "ipython3",
   "version": "3.6.4"
  }
 },
 "nbformat": 4,
 "nbformat_minor": 2
}
