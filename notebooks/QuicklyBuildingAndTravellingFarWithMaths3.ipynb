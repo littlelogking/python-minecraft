{
 "cells": [
  {
   "cell_type": "markdown",
   "metadata": {},
   "source": []
  },
  {
   "cell_type": "markdown",
   "metadata": {},
   "source": [
    "### In this section we use the following functions\n",
    "\n",
    "pos=getTilePos()\n",
    "\n",
    "setTilePos(x,y,z)\n",
    "\n",
    "setBlock(x,y,z,type)\n",
    "\n",
    "setBlocks()"
   ]
  },
  {
   "cell_type": "code",
   "execution_count": 43,
   "metadata": {},
   "outputs": [
    {
     "name": "stdout",
     "output_type": "stream",
     "text": [
      "4\n"
     ]
    }
   ],
   "source": [
    "zombies = 2 + 2\n",
    "print (zombies)"
   ]
  },
  {
   "cell_type": "markdown",
   "metadata": {},
   "source": [
    "this places a melon on the block 6,5,28\n",
    "6,5,28=coordinates\n",
    "103(melon)=block\n",
    "\n",
    "Block ids are here\n",
    "https://minecraft-ids.grahamedgecombe.com/"
   ]
  },
  {
   "cell_type": "code",
   "execution_count": 68,
   "metadata": {},
   "outputs": [],
   "source": [
    "from mcpi.minecraft import Minecraft\n",
    "mc = Minecraft.create()\n",
    "mc.setBlock(6, 5, 28, 103)"
   ]
  },
  {
   "cell_type": "markdown",
   "metadata": {},
   "source": [
    "another way to do this with variables -  add 3 blocks on top of one another"
   ]
  },
  {
   "cell_type": "code",
   "execution_count": 45,
   "metadata": {},
   "outputs": [],
   "source": [
    "\n",
    "x = 6\n",
    "y = 5\n",
    "z = 28\n",
    "blockType = 103\n",
    "mc.setBlock(x, y, z, blockType)\n",
    "\n",
    "y = y + 1\n",
    "mc.setBlock(x, y, z, blockType)\n",
    "\n",
    "y = y + 2\n",
    "mc.setBlock(x, y, z, blockType)"
   ]
  },
  {
   "cell_type": "markdown",
   "metadata": {},
   "source": [
    "this part of the program places the first block"
   ]
  },
  {
   "cell_type": "code",
   "execution_count": 46,
   "metadata": {},
   "outputs": [],
   "source": [
    "x = 6\n",
    "y = 5\n",
    "z = 28\n",
    "blockType = 103  #melon block\n",
    "mc.setBlock(x, y, z, blockType)\n"
   ]
  },
  {
   "cell_type": "markdown",
   "metadata": {},
   "source": [
    "this part places the second block"
   ]
  },
  {
   "cell_type": "code",
   "execution_count": 47,
   "metadata": {},
   "outputs": [],
   "source": [
    "y = y + 1\n",
    "mc.setBlock(x, y, z, blockType)"
   ]
  },
  {
   "cell_type": "markdown",
   "metadata": {},
   "source": [
    "this part places the third block"
   ]
  },
  {
   "cell_type": "code",
   "execution_count": 48,
   "metadata": {},
   "outputs": [],
   "source": [
    "y = y + 2\n",
    "mc.setBlock(x, y, z, blockType)"
   ]
  },
  {
   "cell_type": "markdown",
   "metadata": {},
   "source": [
    "# super jump"
   ]
  },
  {
   "cell_type": "markdown",
   "metadata": {},
   "source": [
    "this makesthe player go high up in the air using the power of adittion"
   ]
  },
  {
   "cell_type": "code",
   "execution_count": null,
   "metadata": {},
   "outputs": [],
   "source": []
  },
  {
   "cell_type": "code",
   "execution_count": 49,
   "metadata": {},
   "outputs": [],
   "source": [
    "position = mc.player.getTilePos()\n",
    "x = position.x\n",
    "y = position.y\n",
    "z = position.z"
   ]
  },
  {
   "cell_type": "code",
   "execution_count": 50,
   "metadata": {},
   "outputs": [
    {
     "name": "stdout",
     "output_type": "stream",
     "text": [
      "before jump position is: -44 88 14\n",
      "after jump position is: -39 88 14\n"
     ]
    }
   ],
   "source": [
    "position = mc.player.getTilePos()\n",
    "x = position.x\n",
    "y = position.y\n",
    "z = position.z\n",
    "\n",
    "print('before jump position is:',x,y,z)\n",
    "\n",
    "x = x + 5\n",
    "mc.player.setTilePos(x,y,z)\n",
    "\n",
    "print('after jump position is:',x,y,z)\n",
    "\n"
   ]
  },
  {
   "cell_type": "code",
   "execution_count": 51,
   "metadata": {},
   "outputs": [
    {
     "name": "stdout",
     "output_type": "stream",
     "text": [
      "14\n"
     ]
    }
   ],
   "source": [
    "position = mc.player.getTilePos()\n",
    "x = position.x\n",
    "y = position.y\n",
    "z = position.z\n",
    "y = y + 20\n",
    "print (z)\n",
    "mc.player.setTilePos(x,y,z)"
   ]
  },
  {
   "cell_type": "markdown",
   "metadata": {},
   "source": [
    "# change the blocks under you"
   ]
  },
  {
   "cell_type": "markdown",
   "metadata": {},
   "source": [
    "example"
   ]
  },
  {
   "cell_type": "code",
   "execution_count": 52,
   "metadata": {},
   "outputs": [
    {
     "name": "stdout",
     "output_type": "stream",
     "text": [
      "17\n"
     ]
    }
   ],
   "source": [
    "change = 3\n",
    "health = 20\n",
    "health = health - change\n",
    "print(health)"
   ]
  },
  {
   "cell_type": "code",
   "execution_count": null,
   "metadata": {},
   "outputs": [],
   "source": [
    "this places lava wher the player is"
   ]
  },
  {
   "cell_type": "code",
   "execution_count": 55,
   "metadata": {},
   "outputs": [],
   "source": [
    "\n",
    "pos = mc.player.getTilePos()\n",
    "x = pos.x\n",
    "y = pos.y\n",
    "z = pos.z\n",
    "blockType = 10\n",
    "mc.setBlock(x, y, z, blockType)"
   ]
  },
  {
   "cell_type": "code",
   "execution_count": null,
   "metadata": {},
   "outputs": [],
   "source": [
    "these place 2 blocks "
   ]
  },
  {
   "cell_type": "code",
   "execution_count": 57,
   "metadata": {},
   "outputs": [],
   "source": [
    "x = 6\n",
    "y = 5\n",
    "z = 28\n",
    "blockType = 166\n",
    "mc.setBlock(x, y, z, blockType)\n",
    "mc.setBlock(x, y + 1, z, blockType)\n",
    "\n",
    "    \n"
   ]
  },
  {
   "cell_type": "code",
   "execution_count": 59,
   "metadata": {},
   "outputs": [],
   "source": [
    "x = 6\n",
    "y = 5\n",
    "z = 28\n",
    "blockType = 166\n",
    "up = 1\n",
    "mc.setBlock(x, y, z, blockType)\n",
    "mc.setBlock(x, y + up, z, blockType)"
   ]
  },
  {
   "cell_type": "markdown",
   "metadata": {},
   "source": [
    "# speed building"
   ]
  },
  {
   "cell_type": "markdown",
   "metadata": {},
   "source": [
    "these create one big barrier block"
   ]
  },
  {
   "cell_type": "code",
   "execution_count": 63,
   "metadata": {},
   "outputs": [],
   "source": [
    "pos = mc.player.getTilePos()"
   ]
  },
  {
   "cell_type": "code",
   "execution_count": 64,
   "metadata": {},
   "outputs": [],
   "source": [
    "x = pos.x\n",
    "y = pos.y\n",
    "z = pos.z\n",
    "width = 10\n",
    "height = 7\n",
    "length=15\n",
    "blockType = 166\n",
    "air = 40\n",
    "mc.setBlocks(x, y, z, x + width, y + height, z+length, blockType)"
   ]
  },
  {
   "cell_type": "markdown",
   "metadata": {},
   "source": [
    "# spectacular spires"
   ]
  },
  {
   "cell_type": "code",
   "execution_count": 77,
   "metadata": {},
   "outputs": [],
   "source": [
    "pos = mc.player.getTilePos()\n",
    "x = pos.x\n",
    "y = pos.y\n",
    "z = pos.z\n",
    "height = 2\n",
    "blockType = 155\n",
    "\n",
    "sideHeight = height\n",
    "mc.setBlocks(x + 1, y, z + 1, x + 3, y + sideHeight - 1, z + 3, blockType)\n",
    "pointHeight=4\n",
    "mc.setBlocks(x + 2, y, z + 2, x + 2, y + pointHeight - 1, z + 2, blockType)\n",
    "baseHeight=1\n",
    "mc.setBlocks(x, y, z, x + 4, y + baseHeight - 1, z + 4, blockType)"
   ]
  },
  {
   "cell_type": "markdown",
   "metadata": {},
   "source": [
    "# Exponents\n"
   ]
  }
 ],
 "metadata": {
  "kernelspec": {
   "display_name": "Python 3",
   "language": "python",
   "name": "python3"
  },
  "language_info": {
   "codemirror_mode": {
    "name": "ipython",
    "version": 3
   },
   "file_extension": ".py",
   "mimetype": "text/x-python",
   "name": "python",
   "nbconvert_exporter": "python",
   "pygments_lexer": "ipython3",
   "version": "3.6.4"
  }
 },
 "nbformat": 4,
 "nbformat_minor": 2
}
